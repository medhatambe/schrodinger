{
 "cells": [
  {
   "cell_type": "code",
   "execution_count": 39,
   "id": "ce9a2d85",
   "metadata": {},
   "outputs": [],
   "source": [
    "import numpy as np\n",
    "import matplotlib.pyplot as plt"
   ]
  },
  {
   "cell_type": "code",
   "execution_count": 40,
   "id": "e4c55b4c",
   "metadata": {},
   "outputs": [],
   "source": [
    "#define constants\n",
    "deltasq = 1 #setting deltax = 1, so deltasq also = 1\n",
    "orderDeltasq = 1 #need to define this"
   ]
  },
  {
   "cell_type": "code",
   "execution_count": 1,
   "id": "259f5b19",
   "metadata": {},
   "outputs": [],
   "source": [
    "Psi = list()\n",
    "Phi = list()\n",
    "qualifiedf = list()"
   ]
  },
  {
   "cell_type": "code",
   "execution_count": 7,
   "id": "5b8fee1b",
   "metadata": {
    "scrolled": true
   },
   "outputs": [
    {
     "ename": "IndexError",
     "evalue": "list index out of range",
     "output_type": "error",
     "traceback": [
      "\u001b[0;31m---------------------------------------------------------------------------\u001b[0m",
      "\u001b[0;31mIndexError\u001b[0m                                Traceback (most recent call last)",
      "\u001b[0;32m<ipython-input-7-2dc6127bb2af>\u001b[0m in \u001b[0;36m<module>\u001b[0;34m\u001b[0m\n\u001b[1;32m     13\u001b[0m \u001b[0;34m\u001b[0m\u001b[0m\n\u001b[1;32m     14\u001b[0m         \u001b[0;32mif\u001b[0m \u001b[0;34m(\u001b[0m\u001b[0mk\u001b[0m\u001b[0;34m==\u001b[0m\u001b[0;36m0\u001b[0m\u001b[0;34m)\u001b[0m\u001b[0;34m:\u001b[0m\u001b[0;34m\u001b[0m\u001b[0;34m\u001b[0m\u001b[0m\n\u001b[0;32m---> 15\u001b[0;31m             \u001b[0mPsi\u001b[0m\u001b[0;34m[\u001b[0m\u001b[0mk\u001b[0m\u001b[0;34m]\u001b[0m\u001b[0;34m.\u001b[0m\u001b[0mappend\u001b[0m\u001b[0;34m(\u001b[0m\u001b[0;36m0\u001b[0m\u001b[0;34m)\u001b[0m \u001b[0;31m# also tried Psi[k]=0 and Phi[k]=0\u001b[0m\u001b[0;34m\u001b[0m\u001b[0;34m\u001b[0m\u001b[0m\n\u001b[0m\u001b[1;32m     16\u001b[0m             \u001b[0mPhi\u001b[0m\u001b[0;34m[\u001b[0m\u001b[0mk\u001b[0m\u001b[0;34m]\u001b[0m\u001b[0;34m.\u001b[0m\u001b[0mappend\u001b[0m\u001b[0;34m(\u001b[0m\u001b[0;36m0\u001b[0m\u001b[0;34m)\u001b[0m\u001b[0;34m\u001b[0m\u001b[0;34m\u001b[0m\u001b[0m\n\u001b[1;32m     17\u001b[0m \u001b[0;34m\u001b[0m\u001b[0m\n",
      "\u001b[0;31mIndexError\u001b[0m: list index out of range"
     ]
    }
   ],
   "source": [
    "for f in range (-100,1001): #make clear integer\n",
    "    #re-initializing phi and psi lists bc they're being reused as it runs through each f\n",
    "    \n",
    "    Phi.clear\n",
    "    Psi.clear\n",
    "    \n",
    "    for k in range (0, 101):\n",
    "                \n",
    "        PsiList = list()\n",
    "        PhiList = list()\n",
    "#        Psi[k] = list()\n",
    "#        Phi[k] = list()\n",
    "                \n",
    "        if (k==0):\n",
    "            Psi[k].append(0) # also tried Psi[k]=0 and Phi[k]=0\n",
    "            Phi[k].append(0)\n",
    "            \n",
    "        elif (k==1):\n",
    "            Psi[k].append(1)\n",
    "            Phi[k] = (Psi[k] * (1-deltasq * f/12))\n",
    "                \n",
    "        else:\n",
    "            Phi[k] = (2 * Phi[k-1] - Phi[k-2] + deltasq * f * Psi[k-1] + orderDeltasq)\n",
    "            Psi[k] = (Phi[k] / (1-((deltasq * f) / 12)))\n",
    "            \n",
    "        if (k == 100 and Psi[k]==0):\n",
    "            qualifiedf.append(f)"
   ]
  },
  {
   "cell_type": "code",
   "execution_count": 3,
   "id": "8c087ae0",
   "metadata": {},
   "outputs": [
    {
     "name": "stdout",
     "output_type": "stream",
     "text": [
      "List of values of f that meet the boundary conditions:\n",
      "[]\n"
     ]
    }
   ],
   "source": [
    "print (\"List of values of f that meet the boundary conditions:\")\n",
    "print (qualifiedf)"
   ]
  },
  {
   "cell_type": "code",
   "execution_count": null,
   "id": "2fbf3270",
   "metadata": {},
   "outputs": [],
   "source": []
  },
  {
   "cell_type": "code",
   "execution_count": null,
   "id": "ff795006",
   "metadata": {},
   "outputs": [],
   "source": []
  }
 ],
 "metadata": {
  "kernelspec": {
   "display_name": "Python 3",
   "language": "python",
   "name": "python3"
  },
  "language_info": {
   "codemirror_mode": {
    "name": "ipython",
    "version": 3
   },
   "file_extension": ".py",
   "mimetype": "text/x-python",
   "name": "python",
   "nbconvert_exporter": "python",
   "pygments_lexer": "ipython3",
   "version": "3.8.8"
  }
 },
 "nbformat": 4,
 "nbformat_minor": 5
}
